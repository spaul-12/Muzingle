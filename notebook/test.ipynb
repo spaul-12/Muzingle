{
 "cells": [
  {
   "cell_type": "code",
   "execution_count": 3,
   "id": "1f8a5ece",
   "metadata": {},
   "outputs": [],
   "source": [
    "import numpy as np"
   ]
  },
  {
   "cell_type": "code",
   "execution_count": 4,
   "id": "4d362518",
   "metadata": {},
   "outputs": [],
   "source": [
    "song=[[1,2,3],[4,5,6]]\n",
    "matrix=np.array(list(song))"
   ]
  },
  {
   "cell_type": "code",
   "execution_count": 5,
   "id": "ad67a2d4",
   "metadata": {},
   "outputs": [
    {
     "data": {
      "text/plain": [
       "array([[1, 2, 3],\n",
       "       [4, 5, 6]])"
      ]
     },
     "execution_count": 5,
     "metadata": {},
     "output_type": "execute_result"
    }
   ],
   "source": [
    "matrix"
   ]
  },
  {
   "cell_type": "code",
   "execution_count": 6,
   "id": "4032be9f",
   "metadata": {},
   "outputs": [
    {
     "data": {
      "text/plain": [
       "array([2.5, 3.5, 4.5])"
      ]
     },
     "execution_count": 6,
     "metadata": {},
     "output_type": "execute_result"
    }
   ],
   "source": [
    "np.mean(matrix,axis=0)"
   ]
  },
  {
   "cell_type": "code",
   "execution_count": 7,
   "id": "f752f96d",
   "metadata": {
    "collapsed": true
   },
   "outputs": [
    {
     "ename": "SyntaxError",
     "evalue": "invalid syntax (1664797284.py, line 1)",
     "output_type": "error",
     "traceback": [
      "\u001b[0;36m  Cell \u001b[0;32mIn[7], line 1\u001b[0;36m\u001b[0m\n\u001b[0;31m    1 2 3\u001b[0m\n\u001b[0m      ^\u001b[0m\n\u001b[0;31mSyntaxError\u001b[0m\u001b[0;31m:\u001b[0m invalid syntax\n"
     ]
    }
   ],
   "source": [
    "1 2 3\n",
    "4 5 6\n",
    "\n",
    "5 7 9"
   ]
  },
  {
   "cell_type": "code",
   "execution_count": 8,
   "id": "ac2b0b9f",
   "metadata": {},
   "outputs": [
    {
     "data": {
      "text/plain": [
       "array([2., 5.])"
      ]
     },
     "execution_count": 8,
     "metadata": {},
     "output_type": "execute_result"
    }
   ],
   "source": [
    "np.mean(matrix,axis=1)"
   ]
  },
  {
   "cell_type": "code",
   "execution_count": null,
   "id": "22ad8152",
   "metadata": {},
   "outputs": [],
   "source": [
    "1 4\n",
    "2 5\n",
    "3 6\n",
    "\n",
    "6 15"
   ]
  },
  {
   "cell_type": "code",
   "execution_count": 9,
   "id": "34ee7e74",
   "metadata": {},
   "outputs": [],
   "source": [
    "a_dict = {\n",
    "    'a':\"1\",\n",
    "    'b':\"2\"\n",
    "}"
   ]
  },
  {
   "cell_type": "code",
   "execution_count": 10,
   "id": "a06eb48b",
   "metadata": {},
   "outputs": [
    {
     "ename": "KeyError",
     "evalue": "'c'",
     "output_type": "error",
     "traceback": [
      "\u001b[0;31m---------------------------------------------------------------------------\u001b[0m",
      "\u001b[0;31mKeyError\u001b[0m                                  Traceback (most recent call last)",
      "Cell \u001b[0;32mIn[10], line 2\u001b[0m\n\u001b[1;32m      1\u001b[0m a_dict[\u001b[38;5;124m'\u001b[39m\u001b[38;5;124mb\u001b[39m\u001b[38;5;124m'\u001b[39m]\n\u001b[0;32m----> 2\u001b[0m \u001b[43ma_dict\u001b[49m\u001b[43m[\u001b[49m\u001b[38;5;124;43m'\u001b[39;49m\u001b[38;5;124;43mc\u001b[39;49m\u001b[38;5;124;43m'\u001b[39;49m\u001b[43m]\u001b[49m\n",
      "\u001b[0;31mKeyError\u001b[0m: 'c'"
     ]
    }
   ],
   "source": [
    "a_dict['b']\n",
    "a_dict['c']"
   ]
  },
  {
   "cell_type": "code",
   "execution_count": 13,
   "id": "b36ce954",
   "metadata": {},
   "outputs": [],
   "source": [
    "a_dict=defaultdict(lambda :\"None\")\n",
    "a_dict['a']=\"1\"\n",
    "a_dict['b']=\"2\""
   ]
  },
  {
   "cell_type": "code",
   "execution_count": 14,
   "id": "b6d6b098",
   "metadata": {},
   "outputs": [
    {
     "name": "stdout",
     "output_type": "stream",
     "text": [
      "2\n",
      "None\n"
     ]
    }
   ],
   "source": [
    "print(a_dict['b'])\n",
    "print(a_dict['c'])"
   ]
  },
  {
   "cell_type": "code",
   "execution_count": 12,
   "id": "ab491bfc",
   "metadata": {},
   "outputs": [],
   "source": [
    "from collections import defaultdict\n",
    "\n",
    "def flatten_dict_list(dict_list):\n",
    "    \n",
    "    flattened_dict=defaultdict()\n",
    "    print(dict_list[0])\n",
    "    for key in dict_list[0].keys():\n",
    "        print(key)\n",
    "        flattened_dict[key]=[]\n",
    "     \n",
    "    for dictionary in dict_list:\n",
    "        for key, value in dictionary.items():\n",
    "            print(f'{key} value is {value}')\n",
    "            flattened_dict[key].append(value)\n",
    "            \n",
    "    return flattened_dict"
   ]
  },
  {
   "cell_type": "code",
   "execution_count": 15,
   "id": "3bd79a47",
   "metadata": {},
   "outputs": [
    {
     "name": "stdout",
     "output_type": "stream",
     "text": [
      "{'name': 'Come As You Are', 'year': 1991}\n",
      "name\n",
      "year\n",
      "name value is Come As You Are\n",
      "year value is 1991\n",
      "name value is Smells Like Teen Spirit\n",
      "year value is 1991\n",
      "name value is Lithium\n",
      "year value is 1992\n",
      "name value is All Apologies\n",
      "year value is 1993\n",
      "name value is Animals\n",
      "year value is 2014\n"
     ]
    },
    {
     "data": {
      "text/plain": [
       "defaultdict(None,\n",
       "            {'name': ['Come As You Are',\n",
       "              'Smells Like Teen Spirit',\n",
       "              'Lithium',\n",
       "              'All Apologies',\n",
       "              'Animals'],\n",
       "             'year': [1991, 1991, 1992, 1993, 2014]})"
      ]
     },
     "execution_count": 15,
     "metadata": {},
     "output_type": "execute_result"
    }
   ],
   "source": [
    "flatten_dict_list([{'name': 'Come As You Are', 'year':1991},\n",
    "                {'name': 'Smells Like Teen Spirit', 'year': 1991},\n",
    "                {'name': 'Lithium', 'year': 1992},\n",
    "                {'name': 'All Apologies', 'year': 1993},\n",
    "                {'name': 'Animals', 'year': 2014}])"
   ]
  },
  {
   "cell_type": "code",
   "execution_count": 16,
   "id": "3c4bc7b6",
   "metadata": {},
   "outputs": [],
   "source": [
    "l = [[1,2],[4,5]]\n",
    "a = [[4,5],[1,2]]"
   ]
  },
  {
   "cell_type": "code",
   "execution_count": 17,
   "id": "4b8311c9",
   "metadata": {},
   "outputs": [
    {
     "data": {
      "text/plain": [
       "array([[2.21975859e-02, 2.22044605e-16],\n",
       "       [0.00000000e+00, 2.21975859e-02]])"
      ]
     },
     "execution_count": 17,
     "metadata": {},
     "output_type": "execute_result"
    }
   ],
   "source": [
    "from sklearn.metrics import euclidean_distances\n",
    "from scipy.spatial.distance import cdist\n",
    "\n",
    "distance=cdist(l,a,'cosine')\n",
    "distance"
   ]
  },
  {
   "cell_type": "code",
   "execution_count": 20,
   "id": "2f2c02a9",
   "metadata": {},
   "outputs": [
    {
     "data": {
      "text/plain": [
       "(5,)"
      ]
     },
     "execution_count": 20,
     "metadata": {},
     "output_type": "execute_result"
    }
   ],
   "source": [
    "dummy = np.arange(0,5)\n",
    "dummy.shape"
   ]
  },
  {
   "cell_type": "code",
   "execution_count": 22,
   "id": "18e6b627",
   "metadata": {},
   "outputs": [
    {
     "data": {
      "text/plain": [
       "(1, 5)"
      ]
     },
     "execution_count": 22,
     "metadata": {},
     "output_type": "execute_result"
    }
   ],
   "source": [
    "dummy = dummy.reshape(1,-1)\n",
    "dummy.shape"
   ]
  },
  {
   "cell_type": "code",
   "execution_count": 23,
   "id": "06b32a55",
   "metadata": {},
   "outputs": [
    {
     "data": {
      "text/plain": [
       "array([[0, 1, 2, 3, 4]])"
      ]
     },
     "execution_count": 23,
     "metadata": {},
     "output_type": "execute_result"
    }
   ],
   "source": [
    "dummy"
   ]
  }
 ],
 "metadata": {
  "kernelspec": {
   "display_name": "Python 3 (ipykernel)",
   "language": "python",
   "name": "python3"
  },
  "language_info": {
   "codemirror_mode": {
    "name": "ipython",
    "version": 3
   },
   "file_extension": ".py",
   "mimetype": "text/x-python",
   "name": "python",
   "nbconvert_exporter": "python",
   "pygments_lexer": "ipython3",
   "version": "3.10.6"
  }
 },
 "nbformat": 4,
 "nbformat_minor": 5
}
